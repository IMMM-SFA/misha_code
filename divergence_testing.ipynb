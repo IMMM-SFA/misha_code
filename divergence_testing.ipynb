{
 "cells": [
  {
   "cell_type": "code",
   "execution_count": 1,
   "id": "1d56bb4c-66b8-4fdb-8f98-369279bb5aad",
   "metadata": {},
   "outputs": [],
   "source": [
    "import os\n",
    "\n",
    "import pandas as pd\n",
    "\n",
    "import numpy as np\n",
    "\n",
    "import matplotlib.pyplot as plt\n",
    "\n",
    "import glob\n",
    "\n",
    "from pathlib import Path\n",
    "\n",
    "import scipy.stats as stats\n",
    "\n",
    "from scipy import stats"
   ]
  },
  {
   "cell_type": "code",
   "execution_count": 2,
   "id": "3ace61c4-7344-428e-b567-f38066e4c7d0",
   "metadata": {},
   "outputs": [],
   "source": [
    "def t_test_values(input_BA): # give the input_BA as a string e.g. 'AEC'\n",
    "    \n",
    "    # get list of files from given BA\n",
    "    list_of_hot_files = glob.glob(os.path.join(r'C:\\projects\\CONUS_TGW_WRF_SSP585_HOT\\CONUS_TGW_WRF_SSP585_HOT', f'{input_BA}_*.csv'))\n",
    "    list_of_cold_files = glob.glob(os.path.join(r'C:\\projects\\CONUS_TGW_WRF_SSP585_COLD\\CONUS_TGW_WRF_SSP585_COLD', f'{input_BA}_*.csv'))\n",
    "    \n",
    "    p_value_list = []\n",
    "    # run for loop over list of the file names to return the t-test values\n",
    "    for file_index in range(len(list_of_hot_files)):\n",
    "        \n",
    "        # read in csv files for hot and cold\n",
    "        hot_df = pd.read_csv(list_of_hot_files[file_index], index_col = None, header = 0)\n",
    "        hot_t2_array = hot_df['T2'].to_numpy()\n",
    "        \n",
    "        cold_df = pd.read_csv(list_of_cold_files[file_index], index_col = None, header = 0)\n",
    "        cold_t2_array = cold_df['T2'].to_numpy()\n",
    "        \n",
    "        # get var for both hot and cold, to check if they have \"equal\" variance\n",
    "        hot_var = np.var(hot_t2_array)\n",
    "        cold_var = np.var(cold_t2_array)\n",
    "        \n",
    "        # check ratio of variances, then run the t-test if satisfied\n",
    "        if hot_var > cold_var:\n",
    "            if (hot_var / cold_var) > 4:\n",
    "                print(\"The variances are unequal(ratio > 4)\")\n",
    "            else:\n",
    "                t_stat, p_value = stats.ttest_ind(a = hot_t2_array, b = cold_t2_array, equal_var = True)\n",
    "                \n",
    "        else:\n",
    "            if (cold_var / hot_var) > 4:\n",
    "                print(\"The variances are unequal(ratio > 4)\")\n",
    "            else:\n",
    "                t_stat, p_value = stats.ttest_ind(a = hot_t2_array, b = cold_t2_array, equal_var = True)\n",
    "                \n",
    "        # add p value to list for every year\n",
    "        p_value_list.append(p_value)\n",
    "    \n",
    "    # return a list of the p values of each t-test\n",
    "    return p_value_list"
   ]
  },
  {
   "cell_type": "code",
   "execution_count": 3,
   "id": "b8b497e0-4014-4657-be06-607f821cd6b3",
   "metadata": {},
   "outputs": [],
   "source": [
    "# run through t_test_values for every BA. return a list of the BAs where there exists a p-value greater than the input\n",
    "def p_value_BA(input_p_value): # input the input_p_value as a float e.g. 0.05\n",
    "    \n",
    "    # get a list of the BAs\n",
    "    list_of_files = glob.glob(os.path.join(r'C:\\projects\\CONUS_TGW_WRF_SSP585_HOT\\CONUS_TGW_WRF_SSP585_HOT', \"*.csv\"))\n",
    "    \n",
    "    BA_list_split = []\n",
    "    for file_index in range(len(list_of_files)):\n",
    "        base_name = os.path.splitext(os.path.basename(list_of_files[file_index]))[0]\n",
    "        split = base_name.split(\"_\")\n",
    "        BA_list_split.append(split)\n",
    "        \n",
    "    # get list of unique BA names\n",
    "    BA_names = []\n",
    "    for file_list in BA_list_split:\n",
    "        if file_list[0] in BA_names:\n",
    "            pass\n",
    "        else:\n",
    "            BA_names.append(file_list[0])\n",
    "    \n",
    "    insignificant_BA_list = []\n",
    "    # run t_test_values for each BA\n",
    "    for BA in BA_names:\n",
    "        p_value_list = t_test_values(BA)\n",
    "        \n",
    "        # check p values\n",
    "        for p_value in p_value_list:\n",
    "            if p_value > input_p_value:\n",
    "                insignificant_BA_list.append(BA)\n",
    "                break\n",
    "            \n",
    "    # return a list of BAs where there exists a year which would accept the null hypothesis that the difference in group means is zero\n",
    "    return insignificant_BA_list"
   ]
  },
  {
   "cell_type": "code",
   "execution_count": 4,
   "id": "056ac686-76b5-4412-8ff2-bee5d0f816ed",
   "metadata": {},
   "outputs": [
    {
     "data": {
      "text/plain": [
       "['AEC',\n",
       " 'CPLE',\n",
       " 'DUK',\n",
       " 'ERCO',\n",
       " 'FPC',\n",
       " 'GVL',\n",
       " 'JEA',\n",
       " 'LGEE',\n",
       " 'NSB',\n",
       " 'OVEC',\n",
       " 'PSCO',\n",
       " 'SEPA',\n",
       " 'SOCO',\n",
       " 'SPA',\n",
       " 'TAL',\n",
       " 'TVA']"
      ]
     },
     "execution_count": 4,
     "metadata": {},
     "output_type": "execute_result"
    }
   ],
   "source": [
    "p_value_BA(0.04)"
   ]
  }
 ],
 "metadata": {
  "kernelspec": {
   "display_name": "Python 3 (ipykernel)",
   "language": "python",
   "name": "python3"
  },
  "language_info": {
   "codemirror_mode": {
    "name": "ipython",
    "version": 3
   },
   "file_extension": ".py",
   "mimetype": "text/x-python",
   "name": "python",
   "nbconvert_exporter": "python",
   "pygments_lexer": "ipython3",
   "version": "3.10.5"
  }
 },
 "nbformat": 4,
 "nbformat_minor": 5
}
