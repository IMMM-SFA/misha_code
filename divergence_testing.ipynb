{
 "cells": [
  {
   "cell_type": "code",
   "execution_count": 40,
   "id": "1d56bb4c-66b8-4fdb-8f98-369279bb5aad",
   "metadata": {},
   "outputs": [],
   "source": [
    "import os\n",
    "\n",
    "import pandas as pd\n",
    "\n",
    "import numpy as np\n",
    "\n",
    "import matplotlib.pyplot as plt\n",
    "\n",
    "import glob\n",
    "\n",
    "from pathlib import Path\n",
    "\n",
    "import scipy.stats as stats\n",
    "\n",
    "from scipy import stats\n",
    "\n",
    "import math"
   ]
  },
  {
   "cell_type": "code",
   "execution_count": 2,
   "id": "3ace61c4-7344-428e-b567-f38066e4c7d0",
   "metadata": {},
   "outputs": [],
   "source": [
    "def t_test_values(input_BA): # give the input_BA as a string e.g. 'AEC'\n",
    "    \n",
    "    # get list of files from given BA\n",
    "    list_of_hot_files = glob.glob(os.path.join(r'C:\\projects\\CONUS_TGW_WRF_SSP585_HOT\\CONUS_TGW_WRF_SSP585_HOT', f'{input_BA}_*.csv'))\n",
    "    list_of_cold_files = glob.glob(os.path.join(r'C:\\projects\\CONUS_TGW_WRF_SSP585_COLD\\CONUS_TGW_WRF_SSP585_COLD', f'{input_BA}_*.csv'))\n",
    "    \n",
    "    p_value_list = []\n",
    "    # run for loop over list of the file names to return the t-test values\n",
    "    for file_index in range(len(list_of_hot_files)):\n",
    "        \n",
    "        # read in csv files for hot and cold\n",
    "        hot_df = pd.read_csv(list_of_hot_files[file_index], index_col = None, header = 0)\n",
    "        hot_t2_array = hot_df['T2'].to_numpy()\n",
    "        \n",
    "        cold_df = pd.read_csv(list_of_cold_files[file_index], index_col = None, header = 0)\n",
    "        cold_t2_array = cold_df['T2'].to_numpy()\n",
    "        \n",
    "        # get var for both hot and cold, to check if they have \"equal\" variance\n",
    "        hot_var = np.var(hot_t2_array)\n",
    "        cold_var = np.var(cold_t2_array)\n",
    "        \n",
    "        # check ratio of variances, then run the t-test if satisfied\n",
    "        if hot_var > cold_var:\n",
    "            if (hot_var / cold_var) > 4:\n",
    "                print(\"The variances are unequal(ratio > 4)\")\n",
    "            else:\n",
    "                t_stat, p_value = stats.ttest_ind(a = hot_t2_array, b = cold_t2_array, equal_var = True)\n",
    "                \n",
    "        else:\n",
    "            if (cold_var / hot_var) > 4:\n",
    "                print(\"The variances are unequal(ratio > 4)\")\n",
    "            else:\n",
    "                t_stat, p_value = stats.ttest_ind(a = hot_t2_array, b = cold_t2_array, equal_var = True)\n",
    "                \n",
    "        # add p value to list for every year\n",
    "        p_value_list.append(p_value)\n",
    "    \n",
    "    # return a list of the p values of each t-test\n",
    "    return p_value_list"
   ]
  },
  {
   "cell_type": "code",
   "execution_count": 3,
   "id": "c9a926ae-91c2-4384-97d8-9f7090e8b222",
   "metadata": {},
   "outputs": [],
   "source": [
    "# run through t_test_values for every BA. return a list of the BAs where there exists a p-value greater than the input\n",
    "def p_value_BA(input_p_value): # input the input_p_value as a float e.g. 0.05\n",
    "    \n",
    "    # get a list of the BAs\n",
    "    list_of_files = glob.glob(os.path.join(r'C:\\projects\\CONUS_TGW_WRF_SSP585_HOT\\CONUS_TGW_WRF_SSP585_HOT', \"*.csv\"))\n",
    "    \n",
    "    # get a list of unique BA names\n",
    "    BA_names = []\n",
    "    for file_index in range(len(list_of_files)):\n",
    "        base_name = os.path.splitext(os.path.basename(list_of_files[file_index]))[0]\n",
    "        split = base_name.split(\"_\")\n",
    "        if split[0] in BA_names:\n",
    "            pass\n",
    "        else:\n",
    "            BA_names.append(split[0])\n",
    "    \n",
    "    insignificant_BA_list = []\n",
    "    p_values = []\n",
    "    # run t_test_values for each BA\n",
    "    for BA in BA_names:\n",
    "        p_value_list = t_test_values(BA)\n",
    "        \n",
    "        # check p values\n",
    "        for p_value in p_value_list:\n",
    "            if p_value > input_p_value:\n",
    "                insignificant_BA_list.append(BA)\n",
    "                p_values.append(p_value)\n",
    "                break\n",
    "            \n",
    "    # return a list of BAs where there exists a year which would accept the null hypothesis that the difference in group means is zero\n",
    "    return insignificant_BA_list, p_values"
   ]
  },
  {
   "cell_type": "code",
   "execution_count": 4,
   "id": "07b5aea2-e453-4975-aebd-308d35025f0f",
   "metadata": {},
   "outputs": [],
   "source": [
    "list_BA, list_p_value = p_value_BA(0.04)"
   ]
  },
  {
   "cell_type": "code",
   "execution_count": 5,
   "id": "9b767716-7b9a-45ff-8796-0e75e1f425c1",
   "metadata": {},
   "outputs": [],
   "source": [
    "# return a dataframe where each BA has an associated year where the null hypothesis switches from being accepted to rejected\n",
    "def year_of_rejection(list_of_BA): # input the list_of_BA as a list of strings, each string a BA e.g. ['AEC','CPLE','DUK']\n",
    "    \n",
    "    # create list of possible years to reference\n",
    "    years_list = list(range(20, 99))\n",
    "    \n",
    "    significant_indexes = []\n",
    "    # run through BA names to get index of when p-value switches to significant\n",
    "    for BA_name in list_of_BA:\n",
    "        p_value_list = t_test_values(BA_name)\n",
    "        \n",
    "        # check when the p-value gets below certain\n",
    "        for p_value in range(len(p_value_list)):\n",
    "            if p_value_list[p_value] < 0.04:\n",
    "                significant_indexes.append(p_value)\n",
    "                break\n",
    "    \n",
    "    # align the years_list with the significant idexes\n",
    "    significant_years = []\n",
    "    for index in significant_indexes:\n",
    "        significant_years.append(years_list[index])\n",
    "        \n",
    "    return significant_years"
   ]
  },
  {
   "cell_type": "code",
   "execution_count": 6,
   "id": "3c81b3d8-fe12-4b71-968d-3ffe7ca48a6c",
   "metadata": {},
   "outputs": [],
   "source": [
    "years_rejection = year_of_rejection(list_BA)"
   ]
  },
  {
   "cell_type": "code",
   "execution_count": 7,
   "id": "60cbb16e-f200-409a-818f-92af2e6e9c6a",
   "metadata": {},
   "outputs": [
    {
     "data": {
      "text/html": [
       "<div>\n",
       "<style scoped>\n",
       "    .dataframe tbody tr th:only-of-type {\n",
       "        vertical-align: middle;\n",
       "    }\n",
       "\n",
       "    .dataframe tbody tr th {\n",
       "        vertical-align: top;\n",
       "    }\n",
       "\n",
       "    .dataframe thead th {\n",
       "        text-align: right;\n",
       "    }\n",
       "</style>\n",
       "<table border=\"1\" class=\"dataframe\">\n",
       "  <thead>\n",
       "    <tr style=\"text-align: right;\">\n",
       "      <th></th>\n",
       "      <th>BA</th>\n",
       "      <th>Year</th>\n",
       "      <th>P_Value</th>\n",
       "    </tr>\n",
       "  </thead>\n",
       "  <tbody>\n",
       "    <tr>\n",
       "      <th>0</th>\n",
       "      <td>AEC</td>\n",
       "      <td>21</td>\n",
       "      <td>0.049156</td>\n",
       "    </tr>\n",
       "    <tr>\n",
       "      <th>1</th>\n",
       "      <td>CPLE</td>\n",
       "      <td>21</td>\n",
       "      <td>0.054969</td>\n",
       "    </tr>\n",
       "    <tr>\n",
       "      <th>2</th>\n",
       "      <td>DUK</td>\n",
       "      <td>21</td>\n",
       "      <td>0.073358</td>\n",
       "    </tr>\n",
       "    <tr>\n",
       "      <th>3</th>\n",
       "      <td>ERCO</td>\n",
       "      <td>21</td>\n",
       "      <td>0.148800</td>\n",
       "    </tr>\n",
       "    <tr>\n",
       "      <th>4</th>\n",
       "      <td>FPC</td>\n",
       "      <td>21</td>\n",
       "      <td>0.041901</td>\n",
       "    </tr>\n",
       "    <tr>\n",
       "      <th>5</th>\n",
       "      <td>GVL</td>\n",
       "      <td>21</td>\n",
       "      <td>0.041665</td>\n",
       "    </tr>\n",
       "    <tr>\n",
       "      <th>6</th>\n",
       "      <td>JEA</td>\n",
       "      <td>21</td>\n",
       "      <td>0.048265</td>\n",
       "    </tr>\n",
       "    <tr>\n",
       "      <th>7</th>\n",
       "      <td>LGEE</td>\n",
       "      <td>21</td>\n",
       "      <td>0.090001</td>\n",
       "    </tr>\n",
       "    <tr>\n",
       "      <th>8</th>\n",
       "      <td>NSB</td>\n",
       "      <td>21</td>\n",
       "      <td>0.063863</td>\n",
       "    </tr>\n",
       "    <tr>\n",
       "      <th>9</th>\n",
       "      <td>OVEC</td>\n",
       "      <td>21</td>\n",
       "      <td>0.267471</td>\n",
       "    </tr>\n",
       "    <tr>\n",
       "      <th>10</th>\n",
       "      <td>PSCO</td>\n",
       "      <td>22</td>\n",
       "      <td>0.074431</td>\n",
       "    </tr>\n",
       "    <tr>\n",
       "      <th>11</th>\n",
       "      <td>SEPA</td>\n",
       "      <td>21</td>\n",
       "      <td>0.097065</td>\n",
       "    </tr>\n",
       "    <tr>\n",
       "      <th>12</th>\n",
       "      <td>SOCO</td>\n",
       "      <td>21</td>\n",
       "      <td>0.119174</td>\n",
       "    </tr>\n",
       "    <tr>\n",
       "      <th>13</th>\n",
       "      <td>SPA</td>\n",
       "      <td>21</td>\n",
       "      <td>0.110639</td>\n",
       "    </tr>\n",
       "    <tr>\n",
       "      <th>14</th>\n",
       "      <td>TAL</td>\n",
       "      <td>21</td>\n",
       "      <td>0.140341</td>\n",
       "    </tr>\n",
       "    <tr>\n",
       "      <th>15</th>\n",
       "      <td>TVA</td>\n",
       "      <td>21</td>\n",
       "      <td>0.099077</td>\n",
       "    </tr>\n",
       "  </tbody>\n",
       "</table>\n",
       "</div>"
      ],
      "text/plain": [
       "      BA  Year   P_Value\n",
       "0    AEC    21  0.049156\n",
       "1   CPLE    21  0.054969\n",
       "2    DUK    21  0.073358\n",
       "3   ERCO    21  0.148800\n",
       "4    FPC    21  0.041901\n",
       "5    GVL    21  0.041665\n",
       "6    JEA    21  0.048265\n",
       "7   LGEE    21  0.090001\n",
       "8    NSB    21  0.063863\n",
       "9   OVEC    21  0.267471\n",
       "10  PSCO    22  0.074431\n",
       "11  SEPA    21  0.097065\n",
       "12  SOCO    21  0.119174\n",
       "13   SPA    21  0.110639\n",
       "14   TAL    21  0.140341\n",
       "15   TVA    21  0.099077"
      ]
     },
     "execution_count": 7,
     "metadata": {},
     "output_type": "execute_result"
    }
   ],
   "source": [
    "years_df = pd.DataFrame(years_rejection, columns = [\"Year\"])\n",
    "years_df['BA'] = list_BA\n",
    "years_df['P_Value'] = list_p_value\n",
    "years_df = years_df[['BA', 'Year', 'P_Value']]\n",
    "years_df"
   ]
  },
  {
   "cell_type": "markdown",
   "id": "61f416a7-ac20-4639-89fb-fdfb24c3ba91",
   "metadata": {},
   "source": [
    "Okay it seems like what I'm testing is not that useful, as we should expect this result that the means are different. It is probably better to do stuff surrounding how different they are. With such a large sample, we can be pretty confident that the sample mean more closely resembles the population mean, and the two-sample t-test which tests for difference in means is obviously satisfied. "
   ]
  },
  {
   "cell_type": "code",
   "execution_count": 8,
   "id": "70597de3-2b59-4ba8-a933-c39b7fbf8f2d",
   "metadata": {},
   "outputs": [
    {
     "name": "stdout",
     "output_type": "stream",
     "text": [
      "Statistics=0.994, p=0.000\n",
      " Sample does not look Gaussian (reject H0)\n",
      "Statistics=136.088, p=0.000\n",
      "Sample does not look Gaussian (reject H0)\n",
      "Statistic: 15.240\n",
      "15.000: 0.576, data does not look normal (reject H0)\n",
      "10.000: 0.656, data does not look normal (reject H0)\n",
      "5.000: 0.787, data does not look normal (reject H0)\n",
      "2.500: 0.918, data does not look normal (reject H0)\n",
      "1.000: 1.092, data does not look normal (reject H0)\n"
     ]
    },
    {
     "name": "stderr",
     "output_type": "stream",
     "text": [
      "C:\\projects\\tell_3p10\\lib\\site-packages\\scipy\\stats\\_morestats.py:1761: UserWarning: p-value may not be accurate for N > 5000.\n",
      "  warnings.warn(\"p-value may not be accurate for N > 5000.\")\n"
     ]
    },
    {
     "data": {
      "image/png": "[encoded data removed]",
      "text/plain": [
       "<Figure size 432x288 with 1 Axes>"
      ]
     },
     "metadata": {
      "needs_background": "light"
     },
     "output_type": "display_data"
    }
   ],
   "source": [
    "# run the three normality tests for a single year, they all return not normal\n",
    "df = pd.read_csv(r'C:\\projects\\CONUS_TGW_WRF_SSP585_COLD\\CONUS_TGW_WRF_SSP585_COLD\\AVA_WRF_Hourly_Mean_Meteorology_2020.csv', index_col = None, header = 0)\n",
    "t2_bins = np.arange(250,325,2)\n",
    "hist, bin_edges = np.histogram(df['T2'], bins = t2_bins, density = True)\n",
    "plt.plot(hist)\n",
    "\n",
    "# run shapiro-wilks test, which supposedly works better with n < 5000 observations\n",
    "stat, p = stats.shapiro(df['T2'])\n",
    "print('Statistics=%.3f, p=%.3f' % (stat, p))\n",
    "alpha = 0.05\n",
    "if p > alpha:\n",
    "    print(' Sample looks Gaussian (fail to reject H0)')\n",
    "else:\n",
    "    print(' Sample does not look Gaussian (reject H0)')\n",
    "    \n",
    "# run normal test, which measures skew(left or right) and kurtosis(data in the tails)\n",
    "stat2, p2 = stats.normaltest(df['T2'])\n",
    "print('Statistics=%.3f, p=%.3f' % (stat2, p2))\n",
    "if p2 > alpha:\n",
    "    print('Sample looks Gaussian (fail to reject H0)')\n",
    "else:\n",
    "    print('Sample does not look Gaussian (reject H0)')\n",
    "    \n",
    "# run anderson-darling test, returning critical values to evaluate against normal\n",
    "result = stats.anderson(df['T2'])\n",
    "print('Statistic: %.3f' % result.statistic)\n",
    "p = 0\n",
    "for i in range(len(result.critical_values)):\n",
    "    sl, cv = result.significance_level[i], result.critical_values[i]\n",
    "    if result.statistic < result.critical_values[i]:\n",
    "        print('%.3f: %.3f, data looks normal (fail to reject H0)' % (sl, cv))\n",
    "    else:\n",
    "        print('%.3f: %.3f, data does not look normal (reject H0)' % (sl, cv))"
   ]
  },
  {
   "cell_type": "code",
   "execution_count": 9,
   "id": "236ac75b-6771-4eba-af21-0f75031ba711",
   "metadata": {},
   "outputs": [],
   "source": [
    "def data_chunk(first_year, files_path, input_BA): # input first_year as an integer: the first year of the decade you want e.g. 2020. input file_path as a raw string directory\n",
    "                                                       # e.g. r'C:\\projects\\CONUS_TGW_WRF_SSP585_HOT\\CONUS_TGW_WRF_SSP585_HOT' . input input_BA as a string e.g. 'AEC'\n",
    "    # get a list of the files from the path\n",
    "    list_of_files = glob.glob(os.path.join(files_path, f'{input_BA}_*.csv'))\n",
    "    \n",
    "    # get a list of the elements of each file name\n",
    "    BA_list_split = []\n",
    "    for file_index in range(len(list_of_files)):\n",
    "        base_name = os.path.splitext(os.path.basename(list_of_files[file_index]))[0]\n",
    "        split = base_name.split(\"_\")\n",
    "        BA_list_split.append(split)\n",
    "\n",
    "    # get a list of the BA names, with the same indexes as their original file names\n",
    "    BA_names = []\n",
    "    for file_list in BA_list_split:\n",
    "        BA_names.append(file_list[0])\n",
    "        \n",
    "    # get the first file with which to start pulling hourly data\n",
    "    for file_index in range(len(list_of_files)):\n",
    "        if input_BA == BA_names[file_index]:\n",
    "            if str(first_year) in list_of_files[file_index]:\n",
    "                first_file = list_of_files[file_index]\n",
    "                break\n",
    "                \n",
    "    # get a list of the 10 files to unpack\n",
    "    index_first_file = list_of_files.index(first_file)\n",
    "    decade_file_list = []\n",
    "    for file in list_of_files[index_first_file:]:\n",
    "        if len(decade_file_list) == 10:\n",
    "            break\n",
    "        decade_file_list.append(file)\n",
    "        \n",
    "    # create aggregate df of all t2 values from each file_name df\n",
    "    t2_bins = np.arange(250,325,2)\n",
    "    for file_name in range(len(decade_file_list)):\n",
    "        \n",
    "        # read in the file as a df\n",
    "        df = pd.read_csv(decade_file_list[file_name], index_col = None, header = 0)\n",
    "        \n",
    "        # aggregate output into a new dataframe:\n",
    "        if file_name == 0:\n",
    "            aggregate_output_df = df\n",
    "        else:\n",
    "            aggregate_output_df = pd.concat([aggregate_output_df, df], axis = 0)\n",
    "            \n",
    "    return aggregate_output_df"
   ]
  },
  {
   "cell_type": "code",
   "execution_count": 12,
   "id": "c5e668cb-10aa-4ad4-b995-f7632dc649fa",
   "metadata": {},
   "outputs": [
    {
     "name": "stderr",
     "output_type": "stream",
     "text": [
      "C:\\projects\\tell_3p10\\lib\\site-packages\\scipy\\stats\\_morestats.py:1761: UserWarning: p-value may not be accurate for N > 5000.\n",
      "  warnings.warn(\"p-value may not be accurate for N > 5000.\")\n"
     ]
    },
    {
     "name": "stdout",
     "output_type": "stream",
     "text": [
      "Statistics=0.987, p=0.000\n",
      " Sample does not look Gaussian (reject H0)\n",
      "Statistics=21120.176, p=0.000\n",
      "Sample does not look Gaussian (reject H0)\n",
      "Statistic: 2454.909\n",
      "15.000: 0.576, data does not look normal (reject H0)\n",
      "10.000: 0.656, data does not look normal (reject H0)\n",
      "5.000: 0.787, data does not look normal (reject H0)\n",
      "2.500: 0.918, data does not look normal (reject H0)\n",
      "1.000: 1.092, data does not look normal (reject H0)\n"
     ]
    },
    {
     "data": {
      "image/png": "[encoded data removed]",
      "text/plain": [
       "<Figure size 432x288 with 1 Axes>"
      ]
     },
     "metadata": {
      "needs_background": "light"
     },
     "output_type": "display_data"
    }
   ],
   "source": [
    "# gather 80 years of data to see if more data points better approximates to normal - 700,000 T2 values\n",
    "hot_80 = pd.concat([data_chunk(2020, r'C:\\projects\\CONUS_TGW_WRF_SSP585_HOT\\CONUS_TGW_WRF_SSP585_HOT', 'AEC'), \n",
    "                   data_chunk(2030, r'C:\\projects\\CONUS_TGW_WRF_SSP585_HOT\\CONUS_TGW_WRF_SSP585_HOT', 'AEC'),\n",
    "                   data_chunk(2040, r'C:\\projects\\CONUS_TGW_WRF_SSP585_HOT\\CONUS_TGW_WRF_SSP585_HOT', 'AEC'),\n",
    "                   data_chunk(2050, r'C:\\projects\\CONUS_TGW_WRF_SSP585_HOT\\CONUS_TGW_WRF_SSP585_HOT', 'AEC'),\n",
    "                   data_chunk(2060, r'C:\\projects\\CONUS_TGW_WRF_SSP585_HOT\\CONUS_TGW_WRF_SSP585_HOT', 'AEC'),\n",
    "                   data_chunk(2070, r'C:\\projects\\CONUS_TGW_WRF_SSP585_HOT\\CONUS_TGW_WRF_SSP585_HOT', 'AEC'),\n",
    "                   data_chunk(2080, r'C:\\projects\\CONUS_TGW_WRF_SSP585_HOT\\CONUS_TGW_WRF_SSP585_HOT', 'AEC'),\n",
    "                   data_chunk(2090, r'C:\\projects\\CONUS_TGW_WRF_SSP585_HOT\\CONUS_TGW_WRF_SSP585_HOT', 'AEC')], axis = 0)\n",
    "\n",
    "# create histogram of hot_80\n",
    "t2_bins = np.arange(250,325,2)\n",
    "hist, bin_edges = np.histogram(hot_80['T2'], bins = t2_bins, density = True)\n",
    "plt.plot(hist)\n",
    "\n",
    "# run the three tests on hot_80, given the histogram looks at least a little gaussian\n",
    "alpha = 0.05\n",
    "stat, p = stats.shapiro(hot_80['T2'])\n",
    "print('Statistics=%.3f, p=%.3f' % (stat, p))\n",
    "if p > alpha:\n",
    "    print(' Sample looks Gaussian (fail to reject H0)')\n",
    "else:\n",
    "    print(' Sample does not look Gaussian (reject H0)')\n",
    "    \n",
    "stat2, p2 = stats.normaltest(hot_80['T2'])\n",
    "print('Statistics=%.3f, p=%.3f' % (stat2, p2))\n",
    "if p2 > alpha:\n",
    "    print('Sample looks Gaussian (fail to reject H0)')\n",
    "else:\n",
    "    print('Sample does not look Gaussian (reject H0)')\n",
    "    \n",
    "result = stats.anderson(hot_80['T2'])\n",
    "print('Statistic: %.3f' % result.statistic)\n",
    "p = 0\n",
    "for i in range(len(result.critical_values)):\n",
    "    sl, cv = result.significance_level[i], result.critical_values[i]\n",
    "    if result.statistic < result.critical_values[i]:\n",
    "        print('%.3f: %.3f, data looks normal (fail to reject H0)' % (sl, cv))\n",
    "    else:\n",
    "        print('%.3f: %.3f, data does not look normal (reject H0)' % (sl, cv))"
   ]
  },
  {
   "cell_type": "code",
   "execution_count": null,
   "id": "759f956e-6708-4951-93be-d600d9fa2128",
   "metadata": {},
   "outputs": [],
   "source": [
    "# list_of_cold_files = glob.glob(os.path.join(r'C:\\projects\\CONUS_TGW_WRF_SSP585_COLD\\CONUS_TGW_WRF_SSP585_COLD', \"*.csv\"))\n",
    "\n",
    "#for file in list_of_cold_files:\n",
    "    # df = pd.read_csv(file, index_col = None, header = 0)\n",
    "    # name = os.path.basename(file)\n",
    "    # stat, p = shapiro(df['T2'])\n",
    "    # alpha = 0.05\n",
    "    # print('Statistics=%.3f, p=%.3f' % (stat, p))\n",
    "    # if p > alpha:\n",
    "        # print(name + ' Sample looks Gaussian (fail to reject H0)')\n",
    "    # else:\n",
    "        # print(name + ' Sample does not look Gaussian (reject H0)')"
   ]
  },
  {
   "cell_type": "code",
   "execution_count": 23,
   "id": "070563f4-7990-4882-a77e-a6a5dc252a96",
   "metadata": {},
   "outputs": [
    {
     "name": "stdout",
     "output_type": "stream",
     "text": [
      "Cohens d: 0.030\n"
     ]
    }
   ],
   "source": [
    "hot_aec_2020 = pd.read_csv(r'C:\\projects\\CONUS_TGW_WRF_SSP585_HOT\\CONUS_TGW_WRF_SSP585_HOT\\AEC_WRF_Hourly_Mean_Meteorology_2020.csv', index_col = None, header = 0)\n",
    "cold_aec_2020 = pd.read_csv(r'C:\\projects\\CONUS_TGW_WRF_SSP585_COLD\\CONUS_TGW_WRF_SSP585_COLD\\AEC_WRF_Hourly_Mean_Meteorology_2020.csv', index_col = None, header = 0)\n",
    "\n",
    "def cohen_d(d1, d2):\n",
    "    # calculate the size of samples\n",
    "    n1, n2 = len(d1), len(d2)\n",
    "    # calculate the variance of the samples\n",
    "    s1, s2 = np.var(d1, ddof=1), np.var(d2, ddof=1)\n",
    "    # calculate the pooled standard deviation\n",
    "    s = np.sqrt(((n1 - 1) * s1 + (n2 - 1) * s2) / (n1 + n2 - 2))\n",
    "    # calculate the means of the samples\n",
    "    u1, u2 = np.mean(d1), np.mean(d2)\n",
    "    # calculate the effect size\n",
    "    return (u1 - u2) / s\n",
    "\n",
    "d = cohend(hot_aec_2020['T2'], cold_aec_2020['T2'])\n",
    "print('Cohens d: %.3f' % d)"
   ]
  },
  {
   "cell_type": "code",
   "execution_count": 24,
   "id": "7bef0c01-cb5d-4140-8cff-ecf2589df5d8",
   "metadata": {},
   "outputs": [
    {
     "name": "stdout",
     "output_type": "stream",
     "text": [
      "Cohens d: 0.121\n"
     ]
    }
   ],
   "source": [
    "hot_aec_2060 = pd.read_csv(r'C:\\projects\\CONUS_TGW_WRF_SSP585_HOT\\CONUS_TGW_WRF_SSP585_HOT\\AEC_WRF_Hourly_Mean_Meteorology_2060.csv', index_col = None, header = 0)\n",
    "cold_aec_2060 = pd.read_csv(r'C:\\projects\\CONUS_TGW_WRF_SSP585_COLD\\CONUS_TGW_WRF_SSP585_COLD\\AEC_WRF_Hourly_Mean_Meteorology_2060.csv', index_col = None, header = 0)\n",
    "\n",
    "d2 = cohend(hot_aec_2060['T2'], cold_aec_2060['T2'])\n",
    "print('Cohens d: %.3f' % d2)"
   ]
  },
  {
   "cell_type": "code",
   "execution_count": 31,
   "id": "c67fc02d-e708-47e0-b3cd-658624dc2277",
   "metadata": {},
   "outputs": [],
   "source": [
    "def cohen_d_BA(input_BA): # do input_BA as a string e.g. 'AEC'\n",
    "    \n",
    "    # get list of files for each scenario\n",
    "    list_of_hot_files = glob.glob(os.path.join(r'C:\\projects\\CONUS_TGW_WRF_SSP585_HOT\\CONUS_TGW_WRF_SSP585_HOT', f'{input_BA}_*.csv'))\n",
    "    list_of_cold_files = glob.glob(os.path.join(r'C:\\projects\\CONUS_TGW_WRF_SSP585_COLD\\CONUS_TGW_WRF_SSP585_COLD', f'{input_BA}_*.csv'))\n",
    "    \n",
    "    # prepare dataframe for cohen's d\n",
    "    years_list = list(range(20, 100))\n",
    "    cohen_d_df = pd.DataFrame(years_list, columns = ['Year'])\n",
    "    \n",
    "    all_cohen_d = []\n",
    "    # run a for loop returning Cohen's d for each year\n",
    "    for file_index in range(len(list_of_hot_files)):\n",
    "        hot_df = pd.read_csv(list_of_hot_files[file_index])\n",
    "        cold_df = pd.read_csv(list_of_cold_files[file_index])\n",
    "        \n",
    "        # call cohen_d function for each year\n",
    "        year_cohen_d = cohen_d(hot_df['T2'], cold_df['T2'])\n",
    "        all_cohen_d.append(year_cohen_d)\n",
    "        \n",
    "    # add all_cohen_d to dataframe\n",
    "    cohen_d_df['Cohen_d'] = all_cohen_d\n",
    "    \n",
    "    return cohen_d_df"
   ]
  },
  {
   "cell_type": "code",
   "execution_count": 38,
   "id": "c784fc4e-cb42-4b2c-b4f6-cded1e8bf7ed",
   "metadata": {},
   "outputs": [],
   "source": [
    "azps = cohen_d_BA('AZPS')"
   ]
  },
  {
   "cell_type": "code",
   "execution_count": 39,
   "id": "e37864c4-9413-4cb6-ac60-4e93e01b2a4a",
   "metadata": {},
   "outputs": [
    {
     "data": {
      "text/plain": [
       "[<matplotlib.lines.Line2D at 0x256d6effd90>]"
      ]
     },
     "execution_count": 39,
     "metadata": {},
     "output_type": "execute_result"
    },
    {
     "data": {
      "image/png": "[encoded data removed]",
      "text/plain": [
       "<Figure size 432x288 with 1 Axes>"
      ]
     },
     "metadata": {
      "needs_background": "light"
     },
     "output_type": "display_data"
    }
   ],
   "source": [
    "plt.plot(azps['Cohen_d'])"
   ]
  },
  {
   "cell_type": "code",
   "execution_count": 46,
   "id": "4939ccbd-f610-41d2-afb1-63a008060bb2",
   "metadata": {},
   "outputs": [
    {
     "data": {
      "text/plain": [
       "0       5.641375\n",
       "1       5.640310\n",
       "2       5.638959\n",
       "3       5.637607\n",
       "4       5.636110\n",
       "          ...   \n",
       "8778    5.661084\n",
       "8779    5.662578\n",
       "8780    5.662231\n",
       "8781    5.658506\n",
       "8782    5.649573\n",
       "Name: T2, Length: 8783, dtype: float64"
      ]
     },
     "execution_count": 46,
     "metadata": {},
     "output_type": "execute_result"
    }
   ],
   "source": [
    "t2_log = []\n",
    "#for num in hot_aec_2020['T2']:\n",
    "    #t2_log.append(math.log(num))\n",
    "    #hot_aec_2020['T2_Log'] = t2_log\n",
    "   \n",
    "np.log(hot_aec_2020['T2'])\n"
   ]
  },
  {
   "cell_type": "code",
   "execution_count": 47,
   "id": "27c66528-f8c0-4159-9baa-6e649fb601f3",
   "metadata": {},
   "outputs": [],
   "source": [
    "def cohen_d_BA_test(input_BA): # do input_BA as a string e.g. 'AEC'\n",
    "    \n",
    "    # get list of files for each scenario\n",
    "    list_of_hot_files = glob.glob(os.path.join(r'C:\\projects\\CONUS_TGW_WRF_SSP585_HOT\\CONUS_TGW_WRF_SSP585_HOT', f'{input_BA}_*.csv'))\n",
    "    list_of_cold_files = glob.glob(os.path.join(r'C:\\projects\\CONUS_TGW_WRF_SSP585_COLD\\CONUS_TGW_WRF_SSP585_COLD', f'{input_BA}_*.csv'))\n",
    "    \n",
    "    # prepare dataframe for cohen's d\n",
    "    years_list = list(range(20, 100))\n",
    "    cohen_d_df = pd.DataFrame(years_list, columns = ['Year'])\n",
    "    \n",
    "    np.log(hot_aec_2020['T2'])\n",
    "    all_cohen_d = []\n",
    "    # run a for loop returning Cohen's d for each year\n",
    "    for file_index in range(len(list_of_hot_files)):\n",
    "        hot_df = pd.read_csv(list_of_hot_files[file_index])\n",
    "        cold_df = pd.read_csv(list_of_cold_files[file_index])\n",
    "        \n",
    "        hot_df_log = np.log(hot_df['T2'])\n",
    "        cold_df_log = np.log(cold_df['T2'])\n",
    "        \n",
    "        # call cohen_d function for each year\n",
    "        year_cohen_d = cohen_d(hot_df_log['T2'], cold_df_log['T2'])\n",
    "        all_cohen_d.append(year_cohen_d)\n",
    "        \n",
    "    # add all_cohen_d to dataframe\n",
    "    cohen_d_df['Cohen_d'] = all_cohen_d\n",
    "    \n",
    "    return cohen_d_df"
   ]
  },
  {
   "cell_type": "code",
   "execution_count": 48,
   "id": "436173e1-f420-473c-a437-d8355b84b330",
   "metadata": {},
   "outputs": [],
   "source": [
    "azps2 = cohen_d_BA('AZPS')"
   ]
  },
  {
   "cell_type": "code",
   "execution_count": 49,
   "id": "6001683d-58cf-4609-85ad-c0075238c543",
   "metadata": {},
   "outputs": [
    {
     "data": {
      "text/plain": [
       "[<matplotlib.lines.Line2D at 0x256dedae0e0>]"
      ]
     },
     "execution_count": 49,
     "metadata": {},
     "output_type": "execute_result"
    },
    {
     "data": {
      "image/png": "[encoded data removed]",
      "text/plain": [
       "<Figure size 432x288 with 1 Axes>"
      ]
     },
     "metadata": {
      "needs_background": "light"
     },
     "output_type": "display_data"
    }
   ],
   "source": [
    "plt.plot(azps2['Cohen_d'])"
   ]
  },
  {
   "cell_type": "code",
   "execution_count": 50,
   "id": "a7182458-b1b2-41ad-a5ad-852d4d8946f3",
   "metadata": {},
   "outputs": [
    {
     "data": {
      "text/plain": [
       "[<matplotlib.lines.Line2D at 0x256dfa0d0f0>]"
      ]
     },
     "execution_count": 50,
     "metadata": {},
     "output_type": "execute_result"
    },
    {
     "data": {
      "image/png": "[encoded data removed]",
      "text/plain": [
       "<Figure size 432x288 with 1 Axes>"
      ]
     },
     "metadata": {
      "needs_background": "light"
     },
     "output_type": "display_data"
    }
   ],
   "source": [
    "plt.plot(azps['Cohen_d'])"
   ]
  },
  {
   "cell_type": "code",
   "execution_count": 58,
   "id": "96935fa5-d99c-4421-b1b6-e4265eb9fbbc",
   "metadata": {},
   "outputs": [
    {
     "name": "stderr",
     "output_type": "stream",
     "text": [
      "C:\\projects\\tell_3p10\\lib\\site-packages\\numpy\\lib\\histograms.py:906: RuntimeWarning: invalid value encountered in divide\n",
      "  return n/db/n.sum(), bin_edges\n",
      "C:\\projects\\tell_3p10\\lib\\site-packages\\scipy\\stats\\_morestats.py:1761: UserWarning: p-value may not be accurate for N > 5000.\n",
      "  warnings.warn(\"p-value may not be accurate for N > 5000.\")\n"
     ]
    },
    {
     "name": "stdout",
     "output_type": "stream",
     "text": [
      "Statistics=0.987, p=0.000\n",
      " Sample does not look Gaussian (reject H0)\n",
      "Statistics=21120.176, p=0.000\n",
      "Sample does not look Gaussian (reject H0)\n",
      "Statistic: 2454.909\n",
      "15.000: 0.576, data does not look normal (reject H0)\n",
      "10.000: 0.656, data does not look normal (reject H0)\n",
      "5.000: 0.787, data does not look normal (reject H0)\n",
      "2.500: 0.918, data does not look normal (reject H0)\n",
      "1.000: 1.092, data does not look normal (reject H0)\n"
     ]
    },
    {
     "data": {
      "image/png": "[encoded data removed]",
      "text/plain": [
       "<Figure size 432x288 with 1 Axes>"
      ]
     },
     "metadata": {
      "needs_background": "light"
     },
     "output_type": "display_data"
    }
   ],
   "source": [
    "# gather 80 years of data to see if more data points better approximates to normal - 700,000 T2 values\n",
    "hot_80 = pd.concat([data_chunk(2020, r'C:\\projects\\CONUS_TGW_WRF_SSP585_HOT\\CONUS_TGW_WRF_SSP585_HOT', 'AEC'), \n",
    "                   data_chunk(2030, r'C:\\projects\\CONUS_TGW_WRF_SSP585_HOT\\CONUS_TGW_WRF_SSP585_HOT', 'AEC'),\n",
    "                   data_chunk(2040, r'C:\\projects\\CONUS_TGW_WRF_SSP585_HOT\\CONUS_TGW_WRF_SSP585_HOT', 'AEC'),\n",
    "                   data_chunk(2050, r'C:\\projects\\CONUS_TGW_WRF_SSP585_HOT\\CONUS_TGW_WRF_SSP585_HOT', 'AEC'),\n",
    "                   data_chunk(2060, r'C:\\projects\\CONUS_TGW_WRF_SSP585_HOT\\CONUS_TGW_WRF_SSP585_HOT', 'AEC'),\n",
    "                   data_chunk(2070, r'C:\\projects\\CONUS_TGW_WRF_SSP585_HOT\\CONUS_TGW_WRF_SSP585_HOT', 'AEC'),\n",
    "                   data_chunk(2080, r'C:\\projects\\CONUS_TGW_WRF_SSP585_HOT\\CONUS_TGW_WRF_SSP585_HOT', 'AEC'),\n",
    "                   data_chunk(2090, r'C:\\projects\\CONUS_TGW_WRF_SSP585_HOT\\CONUS_TGW_WRF_SSP585_HOT', 'AEC')], axis = 0)\n",
    "\n",
    "\n",
    "\n",
    "# create histogram of hot_80\n",
    "t2_bins = np.arange(250,325,2)\n",
    "hist, bin_edges = np.histogram(hot_80_log, bins = t2_bins, density = True)\n",
    "plt.plot(hist)\n",
    "\n",
    "# run the three tests on hot_80, given the histogram looks at least a little gaussian\n",
    "alpha = 0.05\n",
    "stat, p = stats.shapiro(hot_80_log)\n",
    "print('Statistics=%.3f, p=%.3f' % (stat, p))\n",
    "if p > alpha:\n",
    "    print(' Sample looks Gaussian (fail to reject H0)')\n",
    "else:\n",
    "    print(' Sample does not look Gaussian (reject H0)')\n",
    "    \n",
    "stat2, p2 = stats.normaltest(hot_80_log)\n",
    "print('Statistics=%.3f, p=%.3f' % (stat2, p2))\n",
    "if p2 > alpha:\n",
    "    print('Sample looks Gaussian (fail to reject H0)')\n",
    "else:\n",
    "    print('Sample does not look Gaussian (reject H0)')\n",
    "    \n",
    "result = stats.anderson(hot_80_log)\n",
    "print('Statistic: %.3f' % result.statistic)\n",
    "p = 0\n",
    "for i in range(len(result.critical_values)):\n",
    "    sl, cv = result.significance_level[i], result.critical_values[i]\n",
    "    if result.statistic < result.critical_values[i]:\n",
    "        print('%.3f: %.3f, data looks normal (fail to reject H0)' % (sl, cv))\n",
    "    else:\n",
    "        print('%.3f: %.3f, data does not look normal (reject H0)' % (sl, cv))"
   ]
  },
  {
   "cell_type": "code",
   "execution_count": 63,
   "id": "71965906-f247-47fa-8fa3-c845c1e61a15",
   "metadata": {},
   "outputs": [
    {
     "data": {
      "text/plain": [
       "(array([    66,    565,   9003,  45031,  98122, 138998, 175992, 159109,\n",
       "         65412,   8979], dtype=int64),\n",
       " array([0.00103433, 0.0010599 , 0.00108548, 0.00111105, 0.00113662,\n",
       "        0.0011622 , 0.00118777, 0.00121335, 0.00123892, 0.00126449,\n",
       "        0.00129007]))"
      ]
     },
     "execution_count": 63,
     "metadata": {},
     "output_type": "execute_result"
    }
   ],
   "source": [
    "np.histogram(hot_80_log)"
   ]
  },
  {
   "cell_type": "code",
   "execution_count": 64,
   "id": "138f516b-440c-4ce2-9792-4ef4cb76cd79",
   "metadata": {},
   "outputs": [
    {
     "ename": "NameError",
     "evalue": "name 'plot' is not defined",
     "output_type": "error",
     "traceback": [
      "\u001b[1;31m---------------------------------------------------------------------------\u001b[0m",
      "\u001b[1;31mNameError\u001b[0m                                 Traceback (most recent call last)",
      "Input \u001b[1;32mIn [64]\u001b[0m, in \u001b[0;36m<cell line: 1>\u001b[1;34m()\u001b[0m\n\u001b[1;32m----> 1\u001b[0m \u001b[43mplot\u001b[49m(np\u001b[38;5;241m.\u001b[39mhistogram(hot_80_log))\n",
      "\u001b[1;31mNameError\u001b[0m: name 'plot' is not defined"
     ]
    }
   ],
   "source": [
    "plot(np.histogram(hot_80_log))"
   ]
  },
  {
   "cell_type": "code",
   "execution_count": 72,
   "id": "3eb9e0ee-d291-47e0-b849-4a5f34c362f9",
   "metadata": {},
   "outputs": [
    {
     "data": {
      "text/plain": [
       "[<matplotlib.lines.Line2D at 0x256f65a0820>]"
      ]
     },
     "execution_count": 72,
     "metadata": {},
     "output_type": "execute_result"
    },
    {
     "data": {
      "image/png": "[encoded data removed]",
      "text/plain": [
       "<Figure size 432x288 with 1 Axes>"
      ]
     },
     "metadata": {
      "needs_background": "light"
     },
     "output_type": "display_data"
    }
   ],
   "source": [
    "\n",
    "hot_80_log = np.log(hot_80['T2'])\n",
    "\n",
    "\n",
    "\n",
    "\n",
    "\n",
    "hist, bin_edges = np.histogram(hot_80['T2'],bins = 'auto', density = True)\n",
    "plt.plot(hist)"
   ]
  },
  {
   "cell_type": "code",
   "execution_count": null,
   "id": "32d988a7-f47b-4764-a59c-09062d3fceb7",
   "metadata": {},
   "outputs": [],
   "source": []
  }
 ],
 "metadata": {
  "kernelspec": {
   "display_name": "Python 3 (ipykernel)",
   "language": "python",
   "name": "python3"
  },
  "language_info": {
   "codemirror_mode": {
    "name": "ipython",
    "version": 3
   },
   "file_extension": ".py",
   "mimetype": "text/x-python",
   "name": "python",
   "nbconvert_exporter": "python",
   "pygments_lexer": "ipython3",
   "version": "3.10.5"
  }
 },
 "nbformat": 4,
 "nbformat_minor": 5
}
