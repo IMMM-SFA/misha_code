{
 "cells": [
  {
   "cell_type": "markdown",
   "id": "42093e22-371d-424d-adba-bd9dca1780dd",
   "metadata": {},
   "source": [
    "Gather the mean values of T2 from every BA in the Historical dataset and create a time series analysis"
   ]
  },
  {
   "cell_type": "code",
   "execution_count": 1,
   "id": "33670072-adf0-4f00-8797-5b78696b90ed",
   "metadata": {},
   "outputs": [],
   "source": [
    "import os\n",
    "\n",
    "import pandas as pd\n",
    "\n",
    "import numpy as np\n",
    "\n",
    "import statistics as stat\n",
    "\n",
    "import matplotlib\n",
    "\n",
    "import glob"
   ]
  },
  {
   "cell_type": "code",
   "execution_count": 7,
   "id": "0447a7ac-2c3f-4288-8f34-646cd14743fb",
   "metadata": {},
   "outputs": [
    {
     "name": "stdout",
     "output_type": "stream",
     "text": [
      "<generator object Path.glob at 0x00000222C15D3840>\n"
     ]
    }
   ],
   "source": [
    "from pathlib import Path\n",
    "\n",
    "path = r'C:\\projects\\CONUS_TGW_WRF_Historical\\CONUS_TGW_WRF_Historical'\n",
    "\n",
    "files = Path(path).glob('*.csv')"
   ]
  },
  {
   "cell_type": "code",
   "execution_count": 3,
   "id": "3d68e084-389b-413b-9919-1e7d92694d63",
   "metadata": {},
   "outputs": [],
   "source": [
    "dfs = list()\n",
    "for f in files:\n",
    "    data = pd.read_csv(f)\n",
    "    # .stem is method for pathlib objects to get the filename w/o the extension\n",
    "    data['file'] = f.stem\n",
    "    dfs.append(data)\n",
    "    \n",
    "plant_df = pd.concat(dfs, ignore_index=True)"
   ]
  },
  {
   "cell_type": "code",
   "execution_count": 5,
   "id": "18900d4a-8d22-4848-9a45-0d1803e5224e",
   "metadata": {},
   "outputs": [
    {
     "name": "stdout",
     "output_type": "stream",
     "text": [
      "                     Time_UTC      T2       Q2  SWDOWN     GLW  WSPD  \\\n",
      "0         1980-01-01 00:00:00  274.68  0.00341    0.00  240.44  2.95   \n",
      "1         1980-01-01 01:00:00  273.67  0.00333    0.00  238.20  2.72   \n",
      "2         1980-01-01 02:00:00  272.85  0.00325    0.00  235.24  2.41   \n",
      "3         1980-01-01 03:00:00  272.35  0.00320    0.00  235.40  2.11   \n",
      "4         1980-01-01 04:00:00  271.93  0.00315    0.00  234.46  2.09   \n",
      "...                       ...     ...      ...     ...     ...   ...   \n",
      "19986418  2019-12-31 19:00:00  272.31  0.00271  320.75  239.51  7.10   \n",
      "19986419  2019-12-31 20:00:00  272.87  0.00289  300.45  243.35  7.28   \n",
      "19986420  2019-12-31 21:00:00  272.99  0.00301  229.78  248.86  7.12   \n",
      "19986421  2019-12-31 22:00:00  272.57  0.00303  122.53  256.19  6.85   \n",
      "19986422  2019-12-31 23:00:00  271.87  0.00296   29.76  258.44  6.79   \n",
      "\n",
      "                                           file  \n",
      "0         AECI_WRF_Hourly_Mean_Meteorology_1980  \n",
      "1         AECI_WRF_Hourly_Mean_Meteorology_1980  \n",
      "2         AECI_WRF_Hourly_Mean_Meteorology_1980  \n",
      "3         AECI_WRF_Hourly_Mean_Meteorology_1980  \n",
      "4         AECI_WRF_Hourly_Mean_Meteorology_1980  \n",
      "...                                         ...  \n",
      "19986418  WAUW_WRF_Hourly_Mean_Meteorology_2019  \n",
      "19986419  WAUW_WRF_Hourly_Mean_Meteorology_2019  \n",
      "19986420  WAUW_WRF_Hourly_Mean_Meteorology_2019  \n",
      "19986421  WAUW_WRF_Hourly_Mean_Meteorology_2019  \n",
      "19986422  WAUW_WRF_Hourly_Mean_Meteorology_2019  \n",
      "\n",
      "[19986423 rows x 7 columns]\n"
     ]
    }
   ],
   "source": [
    "print(plant_df)"
   ]
  },
  {
   "cell_type": "code",
   "execution_count": 6,
   "id": "02d6646b-6aab-421c-a97c-fd90d4347bca",
   "metadata": {},
   "outputs": [],
   "source": [
    "# get a list of the file names\n",
    "ba_list = plant_df[\"file\"].tolist()"
   ]
  },
  {
   "cell_type": "code",
   "execution_count": null,
   "id": "023aa91a-8d9c-4838-9e2f-4b5daf5257df",
   "metadata": {},
   "outputs": [],
   "source": [
    "def ba_import(list_of_files: list):\n",
    "    \n",
    "    # get a path to the set of files\n",
    "    from pathlib import Path\n",
    "    path = r'C:\\projects\\CONUS_TGW_WRF_Historical\\CONUS_TGW_WRF_Historical'\n",
    "    \n",
    "    for file in range(2280):\n",
    "        \n",
    "        "
   ]
  },
  {
   "cell_type": "markdown",
   "id": "8e743263-da00-459f-af48-a4637ec1efd9",
   "metadata": {},
   "source": [
    "Okay let's think this through. I want to end up with the means of T2 for each BA, but do I want the mean of each year, or the overall mean? Say we want the mean of each year, that's 2,280 means. Which is probably easier to achieve and potentially better...So we need a mean of T2 from each file, as each file represents one year for a particular BA. So in the directory, we can extract each file. Then for that file, calculate the mean of the T2 column. Then input that mean into a dataframe where one axis is the BA, and the other axis is the year. Ideally. "
   ]
  }
 ],
 "metadata": {
  "kernelspec": {
   "display_name": "Python 3 (ipykernel)",
   "language": "python",
   "name": "python3"
  },
  "language_info": {
   "codemirror_mode": {
    "name": "ipython",
    "version": 3
   },
   "file_extension": ".py",
   "mimetype": "text/x-python",
   "name": "python",
   "nbconvert_exporter": "python",
   "pygments_lexer": "ipython3",
   "version": "3.10.5"
  }
 },
 "nbformat": 4,
 "nbformat_minor": 5
}
