{
 "cells": [
  {
   "cell_type": "markdown",
   "id": "42093e22-371d-424d-adba-bd9dca1780dd",
   "metadata": {},
   "source": [
    "Gather the mean values of T2 from every BA in the Historical dataset and create a time series analysis"
   ]
  },
  {
   "cell_type": "code",
   "execution_count": 1,
   "id": "33670072-adf0-4f00-8797-5b78696b90ed",
   "metadata": {},
   "outputs": [],
   "source": [
    "import os\n",
    "\n",
    "import pandas as pd\n",
    "\n",
    "import numpy as np\n",
    "\n",
    "import matplotlib\n",
    "\n",
    "import glob"
   ]
  },
  {
   "cell_type": "code",
   "execution_count": 2,
   "id": "0447a7ac-2c3f-4288-8f34-646cd14743fb",
   "metadata": {},
   "outputs": [],
   "source": [
    "# set up a path for the concatenated dataframe\n",
    "from pathlib import Path\n",
    "\n",
    "path = r'C:\\projects\\CONUS_TGW_WRF_Historical\\CONUS_TGW_WRF_Historical'\n",
    "\n",
    "files = Path(path).glob('*.csv')"
   ]
  },
  {
   "cell_type": "code",
   "execution_count": 3,
   "id": "3d68e084-389b-413b-9919-1e7d92694d63",
   "metadata": {},
   "outputs": [],
   "source": [
    "# create a concatenated dataframe from all csv files\n",
    "dfs = list()\n",
    "for f in files:\n",
    "    data = pd.read_csv(f)\n",
    "    # .stem is method for pathlib objects to get the filename w/o the extension\n",
    "    data['file'] = f.stem\n",
    "    dfs.append(data)"
   ]
  },
  {
   "cell_type": "code",
   "execution_count": 4,
   "id": "a18a6bde-9cb8-4124-9c05-603e3c03e5f4",
   "metadata": {},
   "outputs": [],
   "source": [
    "# concatenate big dataframe of all data\n",
    "plant_df = pd.concat(dfs, ignore_index=True)"
   ]
  },
  {
   "cell_type": "code",
   "execution_count": 5,
   "id": "cb476d94-5541-453b-8995-5a26456fc7f0",
   "metadata": {},
   "outputs": [],
   "source": [
    "# create a list of the data frames\n",
    "path = r'C:\\projects\\CONUS_TGW_WRF_Historical\\CONUS_TGW_WRF_Historical'\n",
    "all_files = glob.glob(os.path.join(path , \"*.csv\"))\n",
    "\n",
    "li = []\n",
    "\n",
    "for filename in all_files:\n",
    "    df = pd.read_csv(filename, index_col=None, header=0)\n",
    "    li.append(df)"
   ]
  },
  {
   "cell_type": "code",
   "execution_count": 13,
   "id": "32dd3a9c-d61b-4f47-8a6d-7afdc25501b1",
   "metadata": {},
   "outputs": [
    {
     "name": "stdout",
     "output_type": "stream",
     "text": [
      "        T2 Means\n",
      "0     286.316761\n",
      "1     286.469531\n",
      "2     285.469139\n",
      "3     285.432616\n",
      "4     285.600995\n",
      "...          ...\n",
      "2275  281.200692\n",
      "2276  281.189107\n",
      "2277  280.206579\n",
      "2278  279.044531\n",
      "2279  278.161652\n",
      "\n",
      "[2280 rows x 1 columns]\n"
     ]
    }
   ],
   "source": [
    "# return a list of the means of T2 for each imported dataframe\n",
    "mean_list = []\n",
    "for df in li:\n",
    "    mean_list.append(df[\"T2\"].mean())\n",
    "    \n",
    "mean_df = pd.DataFrame(mean_list, columns=[\"T2 Means\"])"
   ]
  },
  {
   "cell_type": "markdown",
   "id": "ef62571f-4067-4af6-b13d-a229b6054d03",
   "metadata": {},
   "source": [
    "I'd like to get some more info into this mean_df dataframe. Ideally the name of the csv file so that I have the year and BA for each mean."
   ]
  },
  {
   "cell_type": "code",
   "execution_count": 12,
   "id": "611f52dc-c069-44e3-936a-f7a23ae1eb64",
   "metadata": {},
   "outputs": [],
   "source": [
    "# run a for loop using basename function to get base file names into a list\n",
    "file_names = []\n",
    "for file_path in all_files:\n",
    "    x = os.path.basename(file_path)\n",
    "    file_names.append(x)"
   ]
  },
  {
   "cell_type": "code",
   "execution_count": 14,
   "id": "b96e24aa-908d-4477-b528-0848729d7fe5",
   "metadata": {},
   "outputs": [
    {
     "name": "stdout",
     "output_type": "stream",
     "text": [
      "        T2 Means                                       File\n",
      "0     286.316761  AECI_WRF_Hourly_Mean_Meteorology_1980.csv\n",
      "1     286.469531  AECI_WRF_Hourly_Mean_Meteorology_1981.csv\n",
      "2     285.469139  AECI_WRF_Hourly_Mean_Meteorology_1982.csv\n",
      "3     285.432616  AECI_WRF_Hourly_Mean_Meteorology_1983.csv\n",
      "4     285.600995  AECI_WRF_Hourly_Mean_Meteorology_1984.csv\n",
      "...          ...                                        ...\n",
      "2275  281.200692  WAUW_WRF_Hourly_Mean_Meteorology_2015.csv\n",
      "2276  281.189107  WAUW_WRF_Hourly_Mean_Meteorology_2016.csv\n",
      "2277  280.206579  WAUW_WRF_Hourly_Mean_Meteorology_2017.csv\n",
      "2278  279.044531  WAUW_WRF_Hourly_Mean_Meteorology_2018.csv\n",
      "2279  278.161652  WAUW_WRF_Hourly_Mean_Meteorology_2019.csv\n",
      "\n",
      "[2280 rows x 2 columns]\n"
     ]
    }
   ],
   "source": [
    "# add file_names column to mean_df to get T2 means and their respective file\n",
    "mean_df['File'] = file_names\n",
    "\n",
    "print(mean_df)"
   ]
  },
  {
   "cell_type": "markdown",
   "id": "8e743263-da00-459f-af48-a4637ec1efd9",
   "metadata": {},
   "source": [
    "Okay let's think this through. I want to end up with the means of T2 for each BA, but do I want the mean of each year, or the overall mean? Say we want the mean of each year, that's 2,280 means. Which is probably easier to achieve and potentially better...So we need a mean of T2 from each file, as each file represents one year for a particular BA. So in the directory, we can extract each file. Then for that file, calculate the mean of the T2 column. Then input that mean into a dataframe where one axis is the BA, and the other axis is the year. Ideally. "
   ]
  }
 ],
 "metadata": {
  "kernelspec": {
   "display_name": "Python 3 (ipykernel)",
   "language": "python",
   "name": "python3"
  },
  "language_info": {
   "codemirror_mode": {
    "name": "ipython",
    "version": 3
   },
   "file_extension": ".py",
   "mimetype": "text/x-python",
   "name": "python",
   "nbconvert_exporter": "python",
   "pygments_lexer": "ipython3",
   "version": "3.10.5"
  }
 },
 "nbformat": 4,
 "nbformat_minor": 5
}
