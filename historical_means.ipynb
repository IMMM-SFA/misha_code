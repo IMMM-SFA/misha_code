{
 "cells": [
  {
   "cell_type": "markdown",
   "id": "42093e22-371d-424d-adba-bd9dca1780dd",
   "metadata": {},
   "source": [
    "Gather the mean values of T2 from every BA in the Historical dataset and create a time series analysis"
   ]
  },
  {
   "cell_type": "code",
   "execution_count": 11,
   "id": "33670072-adf0-4f00-8797-5b78696b90ed",
   "metadata": {},
   "outputs": [],
   "source": [
    "import os\n",
    "\n",
    "import pandas as pd\n",
    "\n",
    "import numpy as np\n",
    "\n",
    "import matplotlib\n",
    "\n",
    "import glob"
   ]
  },
  {
   "cell_type": "code",
   "execution_count": 12,
   "id": "0447a7ac-2c3f-4288-8f34-646cd14743fb",
   "metadata": {},
   "outputs": [],
   "source": [
    "# set up a path for the concatenated dataframe\n",
    "from pathlib import Path\n",
    "\n",
    "path = r'C:\\projects\\CONUS_TGW_WRF_Historical\\CONUS_TGW_WRF_Historical'\n",
    "\n",
    "files = Path(path).glob('*.csv')"
   ]
  },
  {
   "cell_type": "code",
   "execution_count": 13,
   "id": "3d68e084-389b-413b-9919-1e7d92694d63",
   "metadata": {},
   "outputs": [],
   "source": [
    "# create a concatenated dataframe from all csv files\n",
    "dfs = list()\n",
    "for f in files:\n",
    "    data = pd.read_csv(f)\n",
    "    # .stem is method for pathlib objects to get the filename w/o the extension\n",
    "    data['file'] = f.stem\n",
    "    dfs.append(data)"
   ]
  },
  {
   "cell_type": "code",
   "execution_count": 14,
   "id": "a18a6bde-9cb8-4124-9c05-603e3c03e5f4",
   "metadata": {},
   "outputs": [],
   "source": [
    "# concatenate big dataframe of all data\n",
    "plant_df = pd.concat(dfs, ignore_index=True)"
   ]
  },
  {
   "cell_type": "code",
   "execution_count": 15,
   "id": "cb476d94-5541-453b-8995-5a26456fc7f0",
   "metadata": {},
   "outputs": [],
   "source": [
    "# create a list of the data frames\n",
    "path = r'C:\\projects\\CONUS_TGW_WRF_Historical\\CONUS_TGW_WRF_Historical'\n",
    "all_files = glob.glob(os.path.join(path , \"*.csv\"))\n",
    "\n",
    "li = []\n",
    "\n",
    "for filename in all_files:\n",
    "    df = pd.read_csv(filename, index_col=None, header=0)\n",
    "    li.append(df)"
   ]
  },
  {
   "cell_type": "code",
   "execution_count": 16,
   "id": "32dd3a9c-d61b-4f47-8a6d-7afdc25501b1",
   "metadata": {},
   "outputs": [],
   "source": [
    "# return a list of the means of T2 for each imported dataframe\n",
    "mean_list = []\n",
    "for df in li:\n",
    "    mean_list.append(df[\"T2\"].mean())\n",
    "    \n",
    "mean_df = pd.DataFrame(mean_list, columns=[\"T2 Means\"])"
   ]
  },
  {
   "cell_type": "markdown",
   "id": "ef62571f-4067-4af6-b13d-a229b6054d03",
   "metadata": {},
   "source": [
    "I'd like to get some more info into this mean_df dataframe. Ideally the name of the csv file so that I have the year and BA for each mean."
   ]
  },
  {
   "cell_type": "code",
   "execution_count": 17,
   "id": "611f52dc-c069-44e3-936a-f7a23ae1eb64",
   "metadata": {},
   "outputs": [],
   "source": [
    "# run a for loop using basename function to get base file names into a list\n",
    "file_names = []\n",
    "for file_path in all_files:\n",
    "    x = os.path.basename(file_path)\n",
    "    file_names.append(x)"
   ]
  },
  {
   "cell_type": "code",
   "execution_count": 28,
   "id": "b3faedab-300f-4205-8d94-b08595d5f7c7",
   "metadata": {},
   "outputs": [],
   "source": [
    "# remove the .csv from each file name\n",
    "BA_list = []\n",
    "for csv_name in range(len(file_names)):\n",
    "    base_name = os.path.splitext(os.path.basename(file_names[csv_name]))[0]\n",
    "    BA_list.append(base_name)"
   ]
  },
  {
   "cell_type": "code",
   "execution_count": 35,
   "id": "33571ec9-51db-4a98-a3b7-a4e967e3b0a4",
   "metadata": {},
   "outputs": [],
   "source": [
    "# split the file names into lists in BA_list\n",
    "BA_list_split = []\n",
    "for name in BA_list:\n",
    "    split = name.split(\"_\")\n",
    "    BA_list_split.append(split)"
   ]
  },
  {
   "cell_type": "code",
   "execution_count": 41,
   "id": "4ed1d60d-ba01-4208-95e4-14ae6273040f",
   "metadata": {},
   "outputs": [],
   "source": [
    "# take the first elements (BAs) and last elements (years) and put them into their respective lists\n",
    "BA_names = []\n",
    "years = []\n",
    "for file_list in BA_list_split:\n",
    "    BA_names.append(file_list[0])\n",
    "    years.append(file_list[5])"
   ]
  },
  {
   "cell_type": "code",
   "execution_count": 43,
   "id": "f97529e7-2898-49b4-a1c2-18eb657a8a83",
   "metadata": {},
   "outputs": [
    {
     "name": "stdout",
     "output_type": "stream",
     "text": [
      "        BA  Year    T2 Means\n",
      "0     AECI  1980  286.316761\n",
      "1     AECI  1981  286.469531\n",
      "2     AECI  1982  285.469139\n",
      "3     AECI  1983  285.432616\n",
      "4     AECI  1984  285.600995\n",
      "...    ...   ...         ...\n",
      "2275  WAUW  2015  281.200692\n",
      "2276  WAUW  2016  281.189107\n",
      "2277  WAUW  2017  280.206579\n",
      "2278  WAUW  2018  279.044531\n",
      "2279  WAUW  2019  278.161652\n",
      "\n",
      "[2280 rows x 3 columns]\n"
     ]
    }
   ],
   "source": [
    "# add BA and Year columns to dataframe and correct the column order\n",
    "mean_df['BA'] = BA_names\n",
    "mean_df['Year'] = years\n",
    "\n",
    "mean_df = mean_df[['BA', 'Year', 'T2 Means']]\n",
    "\n",
    "print(mean_df)\n",
    "# yay it works!"
   ]
  },
  {
   "cell_type": "markdown",
   "id": "a9ae9978-909e-4c3a-88e4-02c6d9e265fe",
   "metadata": {},
   "source": [
    "Now I need to turn this process into a function."
   ]
  },
  {
   "cell_type": "code",
   "execution_count": 51,
   "id": "9a5ec81e-8788-46e6-9218-0d2159590e6a",
   "metadata": {},
   "outputs": [],
   "source": [
    "def t2_mean(list_of_files: list):\n",
    "    \n",
    "    # what am I inputting? how do I ensure the correct directory?\n",
    "    \n",
    "    # create a list of the data frames\n",
    "    df_list = []\n",
    "    for file_name in list_of_files:\n",
    "        df = pd.read_csv(file_name, index_col = None, header = 0)\n",
    "        df_list.append(df)\n",
    "    \n",
    "    # return a list of the T2 means\n",
    "    means_list = []\n",
    "    for df in df_list:\n",
    "        means_list.append(df[\"T2\"].mean())\n",
    "    \n",
    "    means_df = pd.DataFrame(means_list, columns=[\"T2 Means\"])\n",
    "    \n",
    "    # create list of file names to get more information for each T2\n",
    "    files = []\n",
    "    for file_path in list_of_files:\n",
    "        name = os.path.basename(file_path)\n",
    "        files.append(name)\n",
    "    \n",
    "    # remove the .csv from each file name\n",
    "    BA_list = []\n",
    "    for csv_name in range(len(files)):\n",
    "        base_name = os.path.splitext(os.path.basename(files[csv_name]))[0]\n",
    "        BA_list.append(base_name)\n",
    "     \n",
    "    # split the file names into lists in BA_list\n",
    "    BA_list_split = []\n",
    "    for name in BA_list:\n",
    "        split = name.split(\"_\")\n",
    "        BA_list_split.append(split)\n",
    "        \n",
    "    # take the first elements (BAs) and last elements (years) and put them into their respective lists\n",
    "    BA_names = []\n",
    "    years = []\n",
    "    for file_list in BA_list_split:\n",
    "        BA_names.append(file_list[0])\n",
    "        years.append(file_list[5])\n",
    "        \n",
    "    # add BA and Year columns to dataframe and correct the column order\n",
    "    means_df['BA'] = BA_names\n",
    "    means_df['Year'] = years\n",
    "\n",
    "    means_df = means_df[['BA', 'Year', 'T2 Means']]\n",
    "    \n",
    "    return means_df"
   ]
  },
  {
   "cell_type": "markdown",
   "id": "1cc2a948-a1a5-4e29-a58c-ceaa2b987413",
   "metadata": {},
   "source": [
    "1) split File strings into BAs and years, turn them into two separate columns\n",
    "2) consider adding the two lines of code needed to create the list_of_files into the function by instead taking the path as the function input\n",
    "3) swap print() for return\n",
    "4) test the function for HOT and COLD data\n",
    "5) plotting?\n",
    "6) stats background reading"
   ]
  },
  {
   "cell_type": "code",
   "execution_count": 52,
   "id": "858a64af-aece-47a3-88a8-a6f6a546b7eb",
   "metadata": {},
   "outputs": [
    {
     "data": {
      "text/html": [
       "<div>\n",
       "<style scoped>\n",
       "    .dataframe tbody tr th:only-of-type {\n",
       "        vertical-align: middle;\n",
       "    }\n",
       "\n",
       "    .dataframe tbody tr th {\n",
       "        vertical-align: top;\n",
       "    }\n",
       "\n",
       "    .dataframe thead th {\n",
       "        text-align: right;\n",
       "    }\n",
       "</style>\n",
       "<table border=\"1\" class=\"dataframe\">\n",
       "  <thead>\n",
       "    <tr style=\"text-align: right;\">\n",
       "      <th></th>\n",
       "      <th>BA</th>\n",
       "      <th>Year</th>\n",
       "      <th>T2 Means</th>\n",
       "    </tr>\n",
       "  </thead>\n",
       "  <tbody>\n",
       "    <tr>\n",
       "      <th>0</th>\n",
       "      <td>AECI</td>\n",
       "      <td>2020</td>\n",
       "      <td>288.445799</td>\n",
       "    </tr>\n",
       "    <tr>\n",
       "      <th>1</th>\n",
       "      <td>AECI</td>\n",
       "      <td>2021</td>\n",
       "      <td>288.530342</td>\n",
       "    </tr>\n",
       "    <tr>\n",
       "      <th>2</th>\n",
       "      <td>AECI</td>\n",
       "      <td>2022</td>\n",
       "      <td>287.674314</td>\n",
       "    </tr>\n",
       "    <tr>\n",
       "      <th>3</th>\n",
       "      <td>AECI</td>\n",
       "      <td>2023</td>\n",
       "      <td>287.652112</td>\n",
       "    </tr>\n",
       "    <tr>\n",
       "      <th>4</th>\n",
       "      <td>AECI</td>\n",
       "      <td>2024</td>\n",
       "      <td>287.897982</td>\n",
       "    </tr>\n",
       "    <tr>\n",
       "      <th>...</th>\n",
       "      <td>...</td>\n",
       "      <td>...</td>\n",
       "      <td>...</td>\n",
       "    </tr>\n",
       "    <tr>\n",
       "      <th>4555</th>\n",
       "      <td>WAUW</td>\n",
       "      <td>2095</td>\n",
       "      <td>288.223081</td>\n",
       "    </tr>\n",
       "    <tr>\n",
       "      <th>4556</th>\n",
       "      <td>WAUW</td>\n",
       "      <td>2096</td>\n",
       "      <td>288.100712</td>\n",
       "    </tr>\n",
       "    <tr>\n",
       "      <th>4557</th>\n",
       "      <td>WAUW</td>\n",
       "      <td>2097</td>\n",
       "      <td>287.319889</td>\n",
       "    </tr>\n",
       "    <tr>\n",
       "      <th>4558</th>\n",
       "      <td>WAUW</td>\n",
       "      <td>2098</td>\n",
       "      <td>286.457986</td>\n",
       "    </tr>\n",
       "    <tr>\n",
       "      <th>4559</th>\n",
       "      <td>WAUW</td>\n",
       "      <td>2099</td>\n",
       "      <td>285.387398</td>\n",
       "    </tr>\n",
       "  </tbody>\n",
       "</table>\n",
       "<p>4560 rows × 3 columns</p>\n",
       "</div>"
      ],
      "text/plain": [
       "        BA  Year    T2 Means\n",
       "0     AECI  2020  288.445799\n",
       "1     AECI  2021  288.530342\n",
       "2     AECI  2022  287.674314\n",
       "3     AECI  2023  287.652112\n",
       "4     AECI  2024  287.897982\n",
       "...    ...   ...         ...\n",
       "4555  WAUW  2095  288.223081\n",
       "4556  WAUW  2096  288.100712\n",
       "4557  WAUW  2097  287.319889\n",
       "4558  WAUW  2098  286.457986\n",
       "4559  WAUW  2099  285.387398\n",
       "\n",
       "[4560 rows x 3 columns]"
      ]
     },
     "execution_count": 52,
     "metadata": {},
     "output_type": "execute_result"
    }
   ],
   "source": [
    "hot_path = r'C:\\projects\\CONUS_TGW_WRF_SSP585_HOT\\CONUS_TGW_WRF_SSP585_HOT'\n",
    "\n",
    "hot_files = glob.glob(os.path.join(hot_path , \"*.csv\"))\n",
    "\n",
    "t2_mean(hot_files)"
   ]
  }
 ],
 "metadata": {
  "kernelspec": {
   "display_name": "Python 3 (ipykernel)",
   "language": "python",
   "name": "python3"
  },
  "language_info": {
   "codemirror_mode": {
    "name": "ipython",
    "version": 3
   },
   "file_extension": ".py",
   "mimetype": "text/x-python",
   "name": "python",
   "nbconvert_exporter": "python",
   "pygments_lexer": "ipython3",
   "version": "3.10.5"
  }
 },
 "nbformat": 4,
 "nbformat_minor": 5
}
