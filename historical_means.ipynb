{
 "cells": [
  {
   "cell_type": "markdown",
   "id": "42093e22-371d-424d-adba-bd9dca1780dd",
   "metadata": {},
   "source": [
    "Gather the mean values of T2 from every BA in the Historical dataset and create a time series analysis"
   ]
  },
  {
   "cell_type": "code",
   "execution_count": 1,
   "id": "33670072-adf0-4f00-8797-5b78696b90ed",
   "metadata": {},
   "outputs": [],
   "source": [
    "import os\n",
    "\n",
    "import pandas as pd\n",
    "\n",
    "import numpy as np\n",
    "\n",
    "import matplotlib.pyplot as plt\n",
    "\n",
    "import glob\n",
    "\n",
    "from pathlib import Path\n",
    "\n",
    "import scipy.stats\n",
    "\n",
    "from scipy import stats"
   ]
  },
  {
   "cell_type": "code",
   "execution_count": 2,
   "id": "9a5ec81e-8788-46e6-9218-0d2159590e6a",
   "metadata": {},
   "outputs": [],
   "source": [
    "def t2_mean(path):\n",
    "    \n",
    "    # input the directory to the set of files as a raw string e.g. r'C:\\projects\\CONUS_TGW_WRF_SSP585_HOT\\CONUS_TGW_WRF_SSP585_HOT'\n",
    "    files_path = path\n",
    "    list_of_files = glob.glob(os.path.join(files_path , \"*.csv\"))\n",
    "    \n",
    "    # create a list of the mean of T2 of each file\n",
    "    means_list = []\n",
    "    for file_name in list_of_files:\n",
    "        df = pd.read_csv(file_name, index_col = None, header = 0)\n",
    "        means_list.append(df['T2'].mean())\n",
    "    \n",
    "    means_df = pd.DataFrame(means_list, columns = [\"T2_Mean\"])\n",
    "    \n",
    "    # create list of file names to get more information for each T2\n",
    "    files = []\n",
    "    for file_path in list_of_files:\n",
    "        name = os.path.basename(file_path)\n",
    "        files.append(name)\n",
    "     \n",
    "    # split the file names into lists in BA_list\n",
    "    BA_list_split = []\n",
    "    for csv_name in range(len(files)):\n",
    "        base_name = os.path.splitext(os.path.basename(files[csv_name]))[0]\n",
    "        split = base_name.split(\"_\")\n",
    "        BA_list_split.append(split)\n",
    "        \n",
    "    # take the first elements (BAs) and last elements (years) and put them into their respective lists\n",
    "    BA_names = []\n",
    "    years = []\n",
    "    for file_list in BA_list_split:\n",
    "        BA_names.append(file_list[0])\n",
    "        years.append(file_list[5])\n",
    "        \n",
    "    # add BA and Year columns to dataframe and correct the column order\n",
    "    means_df['BA'] = BA_names\n",
    "    means_df['Year'] = years\n",
    "\n",
    "    means_df = means_df[['BA', 'Year', 'T2_Mean']]\n",
    "    \n",
    "    return means_df"
   ]
  },
  {
   "cell_type": "code",
   "execution_count": null,
   "id": "4bc3051c-2c26-4179-918a-9984b53de0d7",
   "metadata": {},
   "outputs": [],
   "source": [
    "# create a df for both the cold and hot datasets using t2_mean function\n",
    "hot_df = t2_mean(r'C:\\projects\\CONUS_TGW_WRF_SSP585_HOT\\CONUS_TGW_WRF_SSP585_HOT')\n",
    "cold_df = t2_mean(r'C:\\projects\\CONUS_TGW_WRF_SSP585_COLD\\CONUS_TGW_WRF_SSP585_COLD')"
   ]
  },
  {
   "cell_type": "code",
   "execution_count": null,
   "id": "2e5bb224-17ee-4c96-aa63-268a20dbf31f",
   "metadata": {},
   "outputs": [],
   "source": [
    "def t2_visual(input_BA): # insert a BA as a string e.g. 'AEC'\n",
    "    \n",
    "    # need to take the BA string input, and create subsets of hot_df and cold_df from them\n",
    "    cold_BA = cold_df.loc[(cold_df['BA'] == input_BA)]\n",
    "    hot_BA = hot_df.loc[(hot_df['BA'] == input_BA)]\n",
    "    \n",
    "    # create and show the visualization\n",
    "    plt.plot(hot_BA['Year'], hot_BA['T2_Mean'], color = \"red\", label = \"Hot\")\n",
    "    plt.plot(cold_BA['Year'], cold_BA['T2_Mean'], color = \"blue\", label = \"Cold\")\n",
    "    \n",
    "    plt.legend(loc=\"upper left\")\n",
    "    plt.xlabel('Year')\n",
    "    plt.title('A Comparison of ' + input_BA + ' Scenarios')\n",
    "    plt.ylabel('T2_Mean (K)')\n",
    "\n",
    "    plt.xticks([0, 20, 40, 60, 79])\n",
    "    \n",
    "    plt.show()\n",
    "    \n",
    "    # express the temperature differences at initial and final points\n",
    "    temp_diff_df = hot_BA['T2_Mean'] - cold_BA['T2_Mean']\n",
    "    \n",
    "    temp_diff_li = list(temp_diff_df)\n",
    "\n",
    "    # use for loop to print where difference becomes \"significant\" e.g. 1 dg\n",
    "    initial_temp_diff = temp_diff_df.iloc[0].round(2)\n",
    "    final_temp_diff = temp_diff_df.iloc[-1].round(2)\n",
    "    \n",
    "    print('2020 temperature difference: ' + str(initial_temp_diff))\n",
    "    print('2099 temperature difference: ' + str(final_temp_diff))\n",
    "    \n",
    "    # add units (kelvin) maybe convert to F\n",
    "    \n",
    "    return"
   ]
  },
  {
   "cell_type": "code",
   "execution_count": null,
   "id": "bf05d248-5741-48ca-b4c6-a05e4cbf0cea",
   "metadata": {},
   "outputs": [],
   "source": [
    "t2_visual('PJM')"
   ]
  },
  {
   "cell_type": "code",
   "execution_count": null,
   "id": "1a38b2ad-f3ec-47ae-b904-755eaca956d5",
   "metadata": {},
   "outputs": [],
   "source": [
    "def temp_diff_years(input_temp): # input temp as float/integer.\n",
    "      \n",
    "    # get list of unique BAs\n",
    "    BA_unique = hot_df.BA.unique()\n",
    "    BA_list = list(BA_unique)\n",
    "    \n",
    "    # subset hot/cold data for each BA\n",
    "    temp_gap_years = []\n",
    "    for BA_name in BA_list:\n",
    "        cold_BA = cold_df.loc[(cold_df['BA'] == BA_name)]\n",
    "        hot_BA = hot_df.loc[(hot_df['BA'] == BA_name)]\n",
    "        \n",
    "        # within subset, find temp difference > input temp\n",
    "        temp_diff_df = hot_BA['T2_Mean'] - cold_BA['T2_Mean']\n",
    "        temp_diff_li = list(temp_diff_df)\n",
    "        year_li = list(range(2020, 2099))\n",
    "    \n",
    "        for temp_diff in temp_diff_li:\n",
    "            if temp_diff > input_temp:\n",
    "                temp_index = temp_diff_li.index(temp_diff)\n",
    "                break\n",
    "                \n",
    "        # take that temp_index, and append to list of temp_gap_years, which is the year the difference between hot and cold first exceeded input_temp\n",
    "        first_year = year_li[temp_index]\n",
    "        temp_gap_years.append(first_year)\n",
    "        \n",
    "    # sort temp_gap_years in order\n",
    "    temp_gap_years.sort()\n",
    "\n",
    "    return temp_gap_years"
   ]
  },
  {
   "cell_type": "code",
   "execution_count": null,
   "id": "a2dfb59a-36b5-4165-8e14-7c3c63ee0aa9",
   "metadata": {},
   "outputs": [],
   "source": [
    "def temp_divergence_graph(input_deg): # input a float of the degrees K that you would like to see a graph for\n",
    "    \n",
    "    # get list of years where the temperature first diverges by the input_deg, using temp_diff_years function\n",
    "    deg_difference = temp_diff_years(input_deg)\n",
    "    \n",
    "    # sort years by ascending order\n",
    "    deg_difference.sort()\n",
    "    \n",
    "    # create dictionary to count number of times each year appears in one_dg\n",
    "    deg_difference_dict = {i:deg_difference.count(i) for i in deg_difference}\n",
    "    \n",
    "    # plot a bar graph\n",
    "    years = list(deg_difference_dict.keys())\n",
    "    difference_counts = list(deg_difference_dict.values())\n",
    "    \n",
    "    plt.bar(years, difference_counts, color = 'pink')\n",
    "    plt.xlabel('Year')\n",
    "    plt.ylabel(str(input_deg) + ' dg K Differences per BA')\n",
    "    plt.title('Years where Hot and Cold first diverge by ' + str(input_deg) + ' dg K')\n",
    "    \n",
    "    return"
   ]
  },
  {
   "cell_type": "code",
   "execution_count": null,
   "id": "c47441bd-876c-44c8-8678-3370534b52bb",
   "metadata": {},
   "outputs": [],
   "source": [
    "temp_divergence_graph(1)"
   ]
  },
  {
   "cell_type": "markdown",
   "id": "856c266f-fc9d-4fe1-9837-5a8724e5d16c",
   "metadata": {},
   "source": [
    "Connect BAs to their 1dg difference showing up in a dataframe. so then we can see if location is related."
   ]
  },
  {
   "cell_type": "markdown",
   "id": "01e6a89d-8479-44d1-a9df-161de2b6dde2",
   "metadata": {},
   "source": [
    "Chunk temp hourly data into 5/10 yr blocks for a given BA in either hot or cold dataset. then get the frequency of those temps (i.e. pdf) for one of those given decades. then repeat for each block. graph these. "
   ]
  },
  {
   "cell_type": "code",
   "execution_count": null,
   "id": "85c8295c-97c6-46d7-8788-67567e4acb3b",
   "metadata": {},
   "outputs": [],
   "source": [
    "def data_chunk(first_year, files_path, input_BA): # input first_year as an integer: the first year of the decade you want e.g. 2020. input file_path as a raw string directory\n",
    "                                                  # e.g. r'C:\\projects\\CONUS_TGW_WRF_SSP585_HOT\\CONUS_TGW_WRF_SSP585_HOT' . input input_BA as a string e.g. 'AEC'\n",
    "    # get a list of the files from the path\n",
    "    list_of_files = glob.glob(os.path.join(files_path, \"*.csv\")) # try to cut down list of files to just the given BA\n",
    "    \n",
    "    # get a list of the elements of each file name\n",
    "    BA_list_split = []\n",
    "    for file_index in range(len(list_of_files)):\n",
    "        base_name = os.path.splitext(os.path.basename(list_of_files[file_index]))[0]\n",
    "        split = base_name.split(\"_\")\n",
    "        BA_list_split.append(split)\n",
    "\n",
    "    # get a list of the BA names, with the same indexes as their original file names\n",
    "    BA_names = []\n",
    "    for file_list in BA_list_split:\n",
    "        BA_names.append(file_list[0])\n",
    "        \n",
    "    # get the first file with which to start pulling hourly data from\n",
    "    for file_index in range(len(list_of_files)):\n",
    "        if input_BA == BA_names[file_index]:\n",
    "            if str(first_year) in list_of_files[file_index]:\n",
    "                first_file = list_of_files[file_index]\n",
    "                break\n",
    "                \n",
    "    # get a list of the 10 files to unpack\n",
    "    index_first_file = list_of_files.index(first_file)\n",
    "    decade_file_list = []\n",
    "    for file in list_of_files[index_first_file:]:\n",
    "        if len(decade_file_list) == 10:\n",
    "            break\n",
    "        decade_file_list.append(file)\n",
    "        \n",
    "    \n",
    "    # create list of all t2 values from each file_name df\n",
    "    t2_values = []\n",
    "    for file_name in decade_file_list:\n",
    "        df = pd.read_csv(file_name, index_col = None, header = 0)\n",
    "        t2_list = list(df['T2'])\n",
    "        # t2_values.append(t2_list)\n",
    "        t2_values[-1:-1] = t2_list\n",
    "        \n",
    "    # return temp frequencies instead after passing in some bins as df\n",
    "    \n",
    "    return t2_values"
   ]
  },
  {
   "cell_type": "code",
   "execution_count": null,
   "id": "19040082-e895-47b6-ab91-079850b9473d",
   "metadata": {},
   "outputs": [],
   "source": [
    "aec_2030 = data_chunk(2030, r'C:\\projects\\CONUS_TGW_WRF_SSP585_HOT\\CONUS_TGW_WRF_SSP585_HOT', 'WAUW')"
   ]
  },
  {
   "cell_type": "code",
   "execution_count": null,
   "id": "16e04e82-48ef-48b0-9c73-f8f391c0b288",
   "metadata": {},
   "outputs": [],
   "source": [
    "# create a histogram of 2030-2039 temperature frequencies\n",
    "plt.hist(aec_2030)\n",
    "plt.xlabel('T2 (K)')\n",
    "plt.title('Temperature Frequencies for AEC')\n",
    "plt.ylabel('Frequency')"
   ]
  },
  {
   "cell_type": "code",
   "execution_count": null,
   "id": "3951cc79-349a-4edf-9d15-8697785bb0bb",
   "metadata": {},
   "outputs": [],
   "source": [
    "def BA_decade_plot(input_BA, files_path): # input input_BA as a string e.g. 'AEC' \n",
    "                                          # input files_path as raw string e.g. r'C:\\projects\\CONUS_TGW_WRF_SSP585_HOT\\CONUS_TGW_WRF_SSP585_HOT'\n",
    "    \n",
    "    # create list of decades to loop through\n",
    "    decades = [2020, 2030, 2040, 2050, 2060, 2070, 2080, 2090]\n",
    "    \n",
    "    # loop through decades, creating a data_chunk of each for the input_BA\n",
    "    for decade in decades:\n",
    "        data_decade = data_chunk(decade, files_path, input_BA)\n",
    "        plt.hist(data_decade)\n",
    "        \n",
    "    return"
   ]
  },
  {
   "cell_type": "code",
   "execution_count": null,
   "id": "4fd47b41-5603-46b4-9342-0bfa409cf25e",
   "metadata": {},
   "outputs": [],
   "source": [
    "BA_decade_plot('AEC', r'C:\\projects\\CONUS_TGW_WRF_SSP585_HOT\\CONUS_TGW_WRF_SSP585_HOT')"
   ]
  },
  {
   "cell_type": "code",
   "execution_count": null,
   "id": "910d5c84-960e-48a5-88f4-1401a357124f",
   "metadata": {},
   "outputs": [],
   "source": [
    "def BA_hist_plot(input_BA, files_path):\n",
    "    "
   ]
  },
  {
   "cell_type": "markdown",
   "id": "2c982e89-7605-4ae7-8f5c-536bac26c9e0",
   "metadata": {},
   "source": [
    "plot the eight decades as lines"
   ]
  }
 ],
 "metadata": {
  "kernelspec": {
   "display_name": "Python 3 (ipykernel)",
   "language": "python",
   "name": "python3"
  },
  "language_info": {
   "codemirror_mode": {
    "name": "ipython",
    "version": 3
   },
   "file_extension": ".py",
   "mimetype": "text/x-python",
   "name": "python",
   "nbconvert_exporter": "python",
   "pygments_lexer": "ipython3",
   "version": "3.10.5"
  }
 },
 "nbformat": 4,
 "nbformat_minor": 5
}
